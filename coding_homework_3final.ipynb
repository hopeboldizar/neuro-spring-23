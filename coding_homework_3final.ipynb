{
  "nbformat": 4,
  "nbformat_minor": 0,
  "metadata": {
    "colab": {
      "provenance": [],
      "include_colab_link": true
    },
    "kernelspec": {
      "name": "python3",
      "display_name": "Python 3"
    },
    "language_info": {
      "name": "python"
    }
  },
  "cells": [
    {
      "cell_type": "markdown",
      "metadata": {
        "id": "view-in-github",
        "colab_type": "text"
      },
      "source": [
        "<a href=\"https://colab.research.google.com/github/hopeboldizar/neuro-spring-23/blob/main/coding_homework_3final.ipynb\" target=\"_parent\"><img src=\"https://colab.research.google.com/assets/colab-badge.svg\" alt=\"Open In Colab\"/></a>"
      ]
    },
    {
      "cell_type": "markdown",
      "source": [
        "# Coding Homework #3\n",
        "\n",
        "**Instructions**\n",
        "\n",
        "1. Make a *Markdown Cell* that contains the following information:\n",
        "- Your name (small header)\n",
        "- The name of this class (italicized)\n",
        "- The date (bolded)\n",
        "\n",
        "2. Make a *Code Cell* that imports <code>numpy</code> as <code>np</code>, <code>matplotlib.pyplot</code> as <code>plt</code>, and <code>scipy.stats</code> as <code>stats</code>.\n",
        "\n",
        "3. Make a *Code Cell* that imports your <code>v_rest1.csv</code> and <code>v_rest2.csv</code> variables as <code>numpy</code> arrays called <code>v_rest1</code> and <code>v_rest2</code> respectively.\n",
        "\n",
        "4. Make a *Code Cell* that does the following:\n",
        "  \n",
        "  a. Finds the means of <code>v_rest1</code> and <code>v_rest2</code>.\n",
        "  \n",
        "  b. Performs a t-test to test the null hypothesis that the means of <code>v_rest1</code> and <code>v_rest2</code> come from different distributions.\n",
        "\n",
        "  c. Plots a histogram of <code>v_rest1</code> in one subplot, and a histogram of <code>v_rest2</code> in another subplot if the p-value of the t-test is > 0.05. You can make two subplots using the syntax <code>fig, ax = plt.subplots(1,1)</code>.\n",
        "\n",
        "  d. Labels the y-axis and x-axis of your histograms (recall that <code>ax.ylabel</code> and <code>ax.xlabel</code> are the methods that let you accomplish this).\n",
        "\n",
        "5. Make a *Code Cell* that defines a function called <code>vrestHist()</code>. This function should execute the code in step 4 when called. Remember to tell python that you want the function to show your plots when you call it!\n",
        "\n",
        "6. Make a *Code Cell* that calls <code>vrestHist()</code>.\n",
        "\n",
        "7. Make a *Code Cell* that does the following:\n",
        "\n",
        "    a. Loops through each column of <code>v_rest1</code> and <code>v_rest2</code> and makes a scatter plot with <code>v_rest1</code> on the x-axis and <code>v_rest2</code> on the y-axis. \n",
        "\n",
        "    b. Each iteration of your loop should plot a different point on the scatter plot. At the end of your loop, you should have only one scatter plot with number of data points equal to the length of <code>v_rest1</code> and <code>v_rest2</code>.\n",
        "\n",
        "    c. Your loop should plot a <font color = 'red'>red</font> dot if *both* values in <code>v_rest1</code> and <code>v_rest2</code> are greater than -60, a <font color = 'green'>green</font> dot if values in <code>v_rest1</code> are greater than -60, but values in <code>v_rest2</code> are less than -60, and a <font color = 'blue'>blue</font> dot if *both* values in <code>v_rest1</code> and <code>v_rest2</code> are less than -60. \n",
        "\n",
        "    d. Labels your y-axis and your x-axis (this code should be outside of your loop).\n",
        "\n",
        "8. Make a *Code Cell* that defines a function called <code>vrestScatter()</code>. This function should execute the code in step 7 when called. Remember to tell python that you want the function to show your plot when you call it!\n",
        "\n",
        "9. Save a copy of this notebook to your GitHub repo with the title \"coding_homework_3.ipynb\"."
      ],
      "metadata": {
        "id": "zbzMCJlMN3ph"
      }
    },
    {
      "cell_type": "markdown",
      "source": [
        "##Hope Boldizar\n",
        "_Intro to Neural Data Analysis_ \n",
        "\n",
        "__March 1, 2023__"
      ],
      "metadata": {
        "id": "R2xPGJarZzVt"
      }
    },
    {
      "cell_type": "code",
      "source": [
        "#2 Make a Code Cell that imports numpy as np, matplotlib.pyplot as plt, scipy.stats as stats\n",
        "# Import our plotting package from matplotlib\n",
        "import matplotlib.pyplot as plt\n",
        "\n",
        "# Import scipy.stats\n",
        "import scipy.stats as stats\n",
        "\n",
        "# Import numpy below\n",
        "import numpy as np\n",
        "\n",
        "# Add your print() statement below\n",
        "print('Packages imported!')"
      ],
      "metadata": {
        "colab": {
          "base_uri": "https://localhost:8080/"
        },
        "id": "sS7uJ8VFZ3tD",
        "outputId": "8ec5a659-a4d8-464b-e426-078e06435022"
      },
      "execution_count": 2,
      "outputs": [
        {
          "output_type": "stream",
          "name": "stdout",
          "text": [
            "Packages imported!\n"
          ]
        }
      ]
    },
    {
      "cell_type": "code",
      "source": [
        "#3 importing v_rest1\n",
        "url = 'https://docs.google.com/spreadsheets/d/e/2PACX-1vQJHdvWCqo6I-GaOaTrn0ya88CbHWMZC9PqG_nO6JgBn70kTSPWKsz3S3A_8-GWcmGgTut_PuZlnX_V/pub?gid=1835491590&single=true&output=csv'\n",
        "v_rest1 = np.loadtxt(url)\n",
        "v_rest1"
      ],
      "metadata": {
        "colab": {
          "base_uri": "https://localhost:8080/"
        },
        "id": "EbwBMyuWd9s_",
        "outputId": "26050e42-127c-495c-b012-4b7ab7e4dfeb"
      },
      "execution_count": 3,
      "outputs": [
        {
          "output_type": "execute_result",
          "data": {
            "text/plain": [
              "array([-70.09070248, -68.31150987, -73.54675865, -67.4255358 ,\n",
              "       -67.50405731, -70.56566104, -70.49003296, -67.96526241,\n",
              "       -65.06317789, -66.38977509, -74.69312286, -77.1461998 ,\n",
              "       -60.6920063 ])"
            ]
          },
          "metadata": {},
          "execution_count": 3
        }
      ]
    },
    {
      "cell_type": "code",
      "source": [
        "#3 importing v_rest2\n",
        "url = 'https://docs.google.com/spreadsheets/d/e/2PACX-1vTHM4DHeYiM8BcXl0t7t94UPSbLpvmPocZmY5En4YbQFYuW2or6TtkIj-SNDXEENtvFGWPcLpqo3Cko/pub?gid=1294335864&single=true&output=csv'\n",
        "v_rest2 = np.loadtxt(url)\n",
        "v_rest2"
      ],
      "metadata": {
        "colab": {
          "base_uri": "https://localhost:8080/"
        },
        "id": "XC35nPZMeTFG",
        "outputId": "7b43e5f4-30b8-4075-8dc6-f186ee416af0"
      },
      "execution_count": 4,
      "outputs": [
        {
          "output_type": "execute_result",
          "data": {
            "text/plain": [
              "array([-72.40836334, -72.48455811, -75.56633987, -72.09767227,\n",
              "       -67.56270345, -70.77105113, -68.75347692, -76.85747464,\n",
              "       -62.20342331, -67.42262802, -59.2925852 , -65.98278878,\n",
              "       -71.27891588])"
            ]
          },
          "metadata": {},
          "execution_count": 4
        }
      ]
    },
    {
      "cell_type": "code",
      "source": [
        "#4 means, t-test, histogram\n",
        "v_rest_mean_1 = np.mean(v_rest1)\n",
        "v_rest_mean_2 = np.mean(v_rest2)\n",
        "print(v_rest_mean_1)\n",
        "print(v_rest_mean_2)\n",
        "ttest = stats.ttest_ind(v_rest1, v_rest2)\n",
        "print(ttest)\n",
        "fig, ax = plt.subplots(1,2,figsize=(15,5))\n",
        "\n",
        "ax[0].hist(v_rest1)\n",
        "ax[0].set_xlabel('resting membrane potential (mV)')\n",
        "ax[0].set_ylabel('count')\n",
        "ax[1].hist(v_rest2)\n",
        "ax[1].set_xlabel('resting membrane potential (mV)')\n",
        "ax[1].set_ylabel('count')"
      ],
      "metadata": {
        "colab": {
          "base_uri": "https://localhost:8080/",
          "height": 402
        },
        "id": "ruvNZVYTegGp",
        "outputId": "90b61f8c-f372-4ec0-954f-7bd502c48b0a"
      },
      "execution_count": 5,
      "outputs": [
        {
          "output_type": "stream",
          "name": "stdout",
          "text": [
            "-69.22183095846152\n",
            "-69.4370754553846\n",
            "Ttest_indResult(statistic=0.11784143593862338, pvalue=0.9071739957816318)\n"
          ]
        },
        {
          "output_type": "execute_result",
          "data": {
            "text/plain": [
              "Text(0, 0.5, 'count')"
            ]
          },
          "metadata": {},
          "execution_count": 5
        },
        {
          "output_type": "display_data",
          "data": {
            "text/plain": [
              "<Figure size 1080x360 with 2 Axes>"
            ],
            "image/png": "[encoded data removed]"
          },
          "metadata": {
            "needs_background": "light"
          }
        }
      ]
    },
    {
      "cell_type": "code",
      "source": [
        "#5 creating a function\n",
        "#This is a function that will take the mean, t-test, and histogram for vrest data\n",
        "def vrestHist():\n",
        "    v_rest_mean_1 = np.mean(v_rest1)\n",
        "    v_rest_mean_2 = np.mean(v_rest2)\n",
        "    print(v_rest_mean_1)\n",
        "    print(v_rest_mean_2)\n",
        "    ttest = stats.ttest_ind(v_rest1, v_rest2)\n",
        "    print(ttest)\n",
        "    fig, ax = plt.subplots(1,2,figsize=(15,5))\n",
        "\n",
        "    ax[0].hist(v_rest1)\n",
        "    ax[0].set_xlabel('resting membrane potential (mV)')\n",
        "    ax[0].set_ylabel('count')\n",
        "    ax[1].hist(v_rest2)\n",
        "    ax[1].set_xlabel('resting membrane potential (mV)')\n",
        "    ax[1].set_ylabel('count')\n",
        "plt.show()"
      ],
      "metadata": {
        "id": "hZ7vvI__nVXr"
      },
      "execution_count": 6,
      "outputs": []
    },
    {
      "cell_type": "code",
      "source": [
        "#6 calling vresthist\n",
        "vrestHist()"
      ],
      "metadata": {
        "colab": {
          "base_uri": "https://localhost:8080/",
          "height": 385
        },
        "id": "Q6QZKCRcn8Uz",
        "outputId": "4c01d862-87aa-4705-cf0f-32559e746ef9"
      },
      "execution_count": 7,
      "outputs": [
        {
          "output_type": "stream",
          "name": "stdout",
          "text": [
            "-69.22183095846152\n",
            "-69.4370754553846\n",
            "Ttest_indResult(statistic=0.11784143593862338, pvalue=0.9071739957816318)\n"
          ]
        },
        {
          "output_type": "display_data",
          "data": {
            "text/plain": [
              "<Figure size 1080x360 with 2 Axes>"
            ],
            "image/png": "[encoded data removed]"
          },
          "metadata": {
            "needs_background": "light"
          }
        }
      ]
    },
    {
      "cell_type": "code",
      "source": [
        "#7 loops\n",
        "v_rest1_len = len(v_rest1)\n",
        "v_rest2_len = len(v_rest2)\n",
        "\n",
        "for i in range(v_rest1_len):\n",
        "  if v_rest1[i] > -60 and v_rest2[i] > -60:\n",
        "    plt.scatter(v_rest1[i],v_rest2[i],color = \"red\")\n",
        "  elif v_rest1[i] > -60 and v_rest2[i] < -60:\n",
        "    plt.scatter(v_rest1[i],v_rest2[i],color = \"green\")\n",
        "  elif v_rest1[i] < -60 and v_rest2[i] < -60:\n",
        "    plt.scatter(v_rest1[i],v_rest2[i],color = \"blue\")\n",
        "  elif v_rest2[i] > -60:\n",
        "    plt.scatter(v_rest1[i],v_rest2[i],color = \"orange\")\n",
        "\n",
        "plt.xlabel('resting membrane potential of v_rest1')\n",
        "plt.ylabel('resting membrane potential of v_rest2')"
      ],
      "metadata": {
        "colab": {
          "base_uri": "https://localhost:8080/",
          "height": 297
        },
        "id": "sQvnyfCwoVXh",
        "outputId": "075c8746-2a79-432b-e3bd-f809fa368254"
      },
      "execution_count": 8,
      "outputs": [
        {
          "output_type": "execute_result",
          "data": {
            "text/plain": [
              "Text(0, 0.5, 'resting membrane potential of v_rest2')"
            ]
          },
          "metadata": {},
          "execution_count": 8
        },
        {
          "output_type": "display_data",
          "data": {
            "text/plain": [
              "<Figure size 432x288 with 1 Axes>"
            ],
            "image/png": "[encoded data removed]"
          },
          "metadata": {
            "needs_background": "light"
          }
        }
      ]
    },
    {
      "cell_type": "code",
      "source": [
        "#8 creating a function\n",
        "#This is a function that will make a loop through each column of v_rest1 and v_rest2 and make a scatter plot with v_rest1 on the x-axis and v_rest2 on the y-axis\n",
        "def vrestScatter():\n",
        "    v_rest1_len = len(v_rest1)\n",
        "    v_rest2_len = len(v_rest2)\n",
        "\n",
        "    for i in range(v_rest1_len):\n",
        "      if v_rest1[i] > -60 and v_rest2[i] > -60:\n",
        "        plt.scatter(v_rest1[i],v_rest2[i],color = \"red\")\n",
        "      elif v_rest1[i] > -60 and v_rest2[i] < -60:\n",
        "        plt.scatter(v_rest1[i],v_rest2[i],color = \"green\")\n",
        "      elif v_rest1[i] < -60 and v_rest2[i] < -60:\n",
        "        plt.scatter(v_rest1[i],v_rest2[i],color = \"blue\")\n",
        "      elif v_rest2[i] > -60:\n",
        "        plt.scatter(v_rest1[i],v_rest2[i],color = \"orange\")\n",
        "\n",
        "    plt.xlabel('resting membrane potential of v_rest1')\n",
        "    plt.ylabel('resting membrane potential of v_rest2')\n",
        "plt.show()"
      ],
      "metadata": {
        "id": "wmTlAzGBuDy6"
      },
      "execution_count": 11,
      "outputs": []
    },
    {
      "cell_type": "code",
      "source": [
        "#calling vrestScatter\n",
        "vrestScatter()"
      ],
      "metadata": {
        "colab": {
          "base_uri": "https://localhost:8080/",
          "height": 280
        },
        "id": "G7vzLzGXvFZx",
        "outputId": "73d99ed9-dd51-49d4-accd-86d88517d0fe"
      },
      "execution_count": 12,
      "outputs": [
        {
          "output_type": "display_data",
          "data": {
            "text/plain": [
              "<Figure size 432x288 with 1 Axes>"
            ],
            "image/png": "[encoded data removed]"
          },
          "metadata": {
            "needs_background": "light"
          }
        }
      ]
    }
  ]
}