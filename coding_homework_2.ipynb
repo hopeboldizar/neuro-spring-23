{
  "nbformat": 4,
  "nbformat_minor": 0,
  "metadata": {
    "colab": {
      "provenance": [],
      "include_colab_link": true
    },
    "kernelspec": {
      "name": "python3",
      "display_name": "Python 3"
    },
    "language_info": {
      "name": "python"
    }
  },
  "cells": [
    {
      "cell_type": "markdown",
      "metadata": {
        "id": "view-in-github",
        "colab_type": "text"
      },
      "source": [
        "<a href=\"https://colab.research.google.com/github/hopeboldizar/neuro-spring-23/blob/main/coding_homework_2.ipynb\" target=\"_parent\"><img src=\"https://colab.research.google.com/assets/colab-badge.svg\" alt=\"Open In Colab\"/></a>"
      ]
    },
    {
      "cell_type": "markdown",
      "source": [
        "# Coding Homework #2\n",
        "\n",
        "**Instructions:**\n",
        "\n",
        "1. Make a *Markdown Cell* that contains the following information:\n",
        "- Your name (small header)\n",
        "- The name of this class (italicized)\n",
        "- The date (bolded)\n",
        "\n",
        "2. Make a *Code Cell* that imports <code>numpy</code> as <code>np</code>, <code>matplotlib.pyplot</code> as <code>plt</code>, <code>statistics</code> as <code>st</code>.\n",
        "\n",
        "3. Make a *Code Cell* that imports your <code>v_rest1.csv</code> and <code>v_rest2.csv</code> files as <code>numpy</code> arrays called <code>v_rest1</code> and <code>v_rest2</code> respectively. You're used to doing this with the <code>pd.read_csv</code> function for <code>pandas</code>, but can accomplish the same thing using the <code>np.loadtxt</code> function for <code>numpy</code>.\n",
        "\n",
        "4. Make a *Code Cell* that concatenates <code>v_rest1</code> and <code>v_rest2</code> into a matrix with 2 rows and 13 columns named <code>v_rest</code>.\n",
        "\n",
        "5. Make a *Code Cell* that prints the <code>size</code> of <code>v_rest</code>.\n",
        "\n",
        "6. Make a *Code Cell* that returns the first row of <code>v_rest</code>.\n",
        "\n",
        "7. Make a *Code Cell* that returns the sum of the values in the third column of <code>v_rest</code>. You can accomplish this by using <code>v_rest[].sum()</code>, with your index inside of the brackets. As an example, if I wanted to return the sum of the first row of <code>v_rest</code>, I could use <code>v_rest[0].sum()</code> to get my answer.\n",
        "\n",
        "8. Make a *Code Cell* that returns the second-to-last value in the second row of <code>v_rest</code> (use negative indexing for the column value).\n",
        "\n",
        "9. Create a *Code Cell* that makes a histogram of the values in the first row of <code>v_rest</code> (you can do this by using the <code>plt.hist()</code> function). Label your axes.\n",
        "\n",
        "10. Create a *Code Cell* that takes the mean of the values in the first row of <code>v_rest</code>, and assigns the mean to a variable called <code>v_rest_mean_1</code>. Do the same thing for the second row of <code>v_rest</code>, and assign the mean value of the second row to a variable called <code>v_rest_mean_2</code>. You can get the means by using the <code>st.mean()</code> function (remember to put what you want the mean *of* inside the parentheses of the function).\n",
        "\n",
        "11. Create a *Markdown Cell* that describes the difference in means between the two rows. Which one is bigger?\n",
        "\n",
        "12. How can we test whether the difference in means is *meaningful* (statistically significant)? When we're comparing two means, we can use a t-test (assuming the data are normally distributed). To use a t-test on our data, we will first need to import the <code>scipy</code> package. Create a new *Code Cell* that runs the following:\n",
        "\n",
        "<code>\n",
        "import scipy.stats as stats\n",
        "</code>\n",
        "\n",
        "13. Now, we can perform a t-test on the two rows of <code>v_rest</code>. To do this, create a new *Code Cell* that uses the <code>stats.ttest_ind()</code> function - for example:\n",
        "\n",
        "<code>\n",
        "stats.ttest_ind(row1, row2)\n",
        "</code>\n",
        "\n",
        "Replace <code>row1</code> and <code>row2</code> in this case with the first and second rows, respectively, of <code>v_rest</code>.\n",
        "\n",
        "14. Make a *Markdown Cell* that describes the results of your t-test. You should have <code>statistic</code> variable and a <code>pvalue</code> variable. The way to interpret your p-value is as a probability - specifically, the probability that the mean of one distribution could be found in the second distribution. Typically, results are considered to be \"statistically significant\" if the probability is lower than 5% - or 0.05. What is your p-value? Based on this p-value, do you think it is likely that the means are significantly different, or do you think it is likely that they are not?\n",
        "\n",
        "15. Make sure to add at least one line with a <code>#</code> in front of it to each *Code Cell* to describe what each cell does.\n",
        "\n",
        "16. Save a copy of this notebook to your GitHub repo with the title \"coding_homework_2.ipynb\"."
      ],
      "metadata": {
        "id": "CXEcCBSA_prs"
      }
    },
    {
      "cell_type": "markdown",
      "source": [
        "##Hope Boldizar\n",
        "_Intro to Neural Data Analysis_ \n",
        "\n",
        "__February 22, 2023__"
      ],
      "metadata": {
        "id": "KsGlgWHEbVDJ"
      }
    },
    {
      "cell_type": "code",
      "source": [
        "#2 Make a Code Cell that imports numpy as np, matplotlib.pyplot as plt, statistics as st\n",
        "# Import our plotting package from matplotlib\n",
        "import matplotlib.pyplot as plt\n",
        "\n",
        "# Import statistics\n",
        "import statistics as st\n",
        "\n",
        "# Import numpy below\n",
        "import numpy as np\n",
        "\n",
        "# Add your print() statement below\n",
        "print('Packages imported!')"
      ],
      "metadata": {
        "id": "BVXMJ__4cLfJ",
        "outputId": "1d924b80-0973-43df-cdc0-d03ad4f95cd7",
        "colab": {
          "base_uri": "https://localhost:8080/"
        }
      },
      "execution_count": 1,
      "outputs": [
        {
          "output_type": "stream",
          "name": "stdout",
          "text": [
            "Packages imported!\n"
          ]
        }
      ]
    },
    {
      "cell_type": "code",
      "source": [
        "#3 importing data with numpy\n",
        "url = 'https://docs.google.com/spreadsheets/d/e/2PACX-1vTHM4DHeYiM8BcXl0t7t94UPSbLpvmPocZmY5En4YbQFYuW2or6TtkIj-SNDXEENtvFGWPcLpqo3Cko/pub?gid=1294335864&single=true&output=csv'\n",
        "numpy_data2 = np.loadtxt(url)\n",
        "numpy_data2\n"
      ],
      "metadata": {
        "id": "eVtTEc3udXvu",
        "outputId": "b3c171d6-cd72-433f-ea07-07ad6d3e7391",
        "colab": {
          "base_uri": "https://localhost:8080/"
        }
      },
      "execution_count": 3,
      "outputs": [
        {
          "output_type": "execute_result",
          "data": {
            "text/plain": [
              "array([-72.40836334, -72.48455811, -75.56633987, -72.09767227,\n",
              "       -67.56270345, -70.77105113, -68.75347692, -76.85747464,\n",
              "       -62.20342331, -67.42262802, -59.2925852 , -65.98278878,\n",
              "       -71.27891588])"
            ]
          },
          "metadata": {},
          "execution_count": 3
        }
      ]
    },
    {
      "cell_type": "code",
      "source": [
        "#3 importing other data set\n",
        "url = 'https://docs.google.com/spreadsheets/d/e/2PACX-1vQJHdvWCqo6I-GaOaTrn0ya88CbHWMZC9PqG_nO6JgBn70kTSPWKsz3S3A_8-GWcmGgTut_PuZlnX_V/pub?gid=1835491590&single=true&output=csv'\n",
        "numpy_data1 = np.loadtxt(url)\n",
        "numpy_data1"
      ],
      "metadata": {
        "id": "MB9U8IPueF9G",
        "outputId": "faf4429a-d873-4956-97a9-d79e73728d5c",
        "colab": {
          "base_uri": "https://localhost:8080/"
        }
      },
      "execution_count": 4,
      "outputs": [
        {
          "output_type": "execute_result",
          "data": {
            "text/plain": [
              "array([-70.09070248, -68.31150987, -73.54675865, -67.4255358 ,\n",
              "       -67.50405731, -70.56566104, -70.49003296, -67.96526241,\n",
              "       -65.06317789, -66.38977509, -74.69312286, -77.1461998 ,\n",
              "       -60.6920063 ])"
            ]
          },
          "metadata": {},
          "execution_count": 4
        }
      ]
    },
    {
      "cell_type": "code",
      "source": [
        "#4 creating 2x13 matrix\n",
        "v_rest = np.array([numpy_data1,numpy_data2])\n",
        "print(v_rest)"
      ],
      "metadata": {
        "id": "g1cbEH-meufn",
        "outputId": "db135e00-94c8-4d39-cc99-e565c9f6b334",
        "colab": {
          "base_uri": "https://localhost:8080/"
        }
      },
      "execution_count": 6,
      "outputs": [
        {
          "output_type": "stream",
          "name": "stdout",
          "text": [
            "[[-70.09070248 -68.31150987 -73.54675865 -67.4255358  -67.50405731\n",
            "  -70.56566104 -70.49003296 -67.96526241 -65.06317789 -66.38977509\n",
            "  -74.69312286 -77.1461998  -60.6920063 ]\n",
            " [-72.40836334 -72.48455811 -75.56633987 -72.09767227 -67.56270345\n",
            "  -70.77105113 -68.75347692 -76.85747464 -62.20342331 -67.42262802\n",
            "  -59.2925852  -65.98278878 -71.27891588]]\n"
          ]
        }
      ]
    },
    {
      "cell_type": "code",
      "source": [
        "#5 checking matrix size\n",
        "print(v_rest.shape)\n",
        "print(v_rest.size)"
      ],
      "metadata": {
        "id": "na5MglI9e_iw",
        "outputId": "a54835ea-1523-4a66-f1dd-fbe2c4f27485",
        "colab": {
          "base_uri": "https://localhost:8080/"
        }
      },
      "execution_count": 7,
      "outputs": [
        {
          "output_type": "stream",
          "name": "stdout",
          "text": [
            "(2, 13)\n",
            "26\n"
          ]
        }
      ]
    },
    {
      "cell_type": "code",
      "source": [
        "#6 calling first rox of matrix\n",
        "v_rest[0]"
      ],
      "metadata": {
        "id": "ECsFnPd5fmBA",
        "outputId": "0cdd1bf3-9255-43f7-8d51-016013fa69df",
        "colab": {
          "base_uri": "https://localhost:8080/"
        }
      },
      "execution_count": 8,
      "outputs": [
        {
          "output_type": "execute_result",
          "data": {
            "text/plain": [
              "array([-70.09070248, -68.31150987, -73.54675865, -67.4255358 ,\n",
              "       -67.50405731, -70.56566104, -70.49003296, -67.96526241,\n",
              "       -65.06317789, -66.38977509, -74.69312286, -77.1461998 ,\n",
              "       -60.6920063 ])"
            ]
          },
          "metadata": {},
          "execution_count": 8
        }
      ]
    },
    {
      "cell_type": "code",
      "source": [
        "#7 sum of column 3\n",
        "v_rest[0,2] + v_rest[1,2].sum()\n"
      ],
      "metadata": {
        "id": "Wwu0aBdBf5jo",
        "outputId": "818d8dca-8f57-41e9-8be6-8048aae98742",
        "colab": {
          "base_uri": "https://localhost:8080/"
        }
      },
      "execution_count": 15,
      "outputs": [
        {
          "output_type": "execute_result",
          "data": {
            "text/plain": [
              "-149.11309852"
            ]
          },
          "metadata": {},
          "execution_count": 15
        }
      ]
    },
    {
      "cell_type": "code",
      "source": [
        "#8 return second to last value in second row\n",
        "v_rest[1,-2]"
      ],
      "metadata": {
        "id": "TIaTUlbSiJd1",
        "outputId": "04a96cd7-42bd-4c71-db81-95726d973d0e",
        "colab": {
          "base_uri": "https://localhost:8080/"
        }
      },
      "execution_count": 16,
      "outputs": [
        {
          "output_type": "execute_result",
          "data": {
            "text/plain": [
              "-65.98278878"
            ]
          },
          "metadata": {},
          "execution_count": 16
        }
      ]
    },
    {
      "cell_type": "code",
      "source": [
        "#9 create a histogram\n",
        "plt.hist(v_rest)\n",
        "plt.ylabel('count')\n",
        "plt.xlabel('resting membrane potential(mV)')"
      ],
      "metadata": {
        "id": "xOowP1uuimIz",
        "outputId": "422d106e-bcfc-476d-9c47-a8492fc8c1ce",
        "colab": {
          "base_uri": "https://localhost:8080/",
          "height": 296
        }
      },
      "execution_count": 18,
      "outputs": [
        {
          "output_type": "execute_result",
          "data": {
            "text/plain": [
              "Text(0.5, 0, 'resting membrane potential(mV)')"
            ]
          },
          "metadata": {},
          "execution_count": 18
        },
        {
          "output_type": "display_data",
          "data": {
            "text/plain": [
              "<Figure size 432x288 with 1 Axes>"
            ],
            "image/png": "[encoded data removed]"
          },
          "metadata": {
            "needs_background": "light"
          }
        }
      ]
    },
    {
      "cell_type": "code",
      "source": [
        "#10 means of row 1 and 2\n",
        "v_rest_mean_1 = st.mean(numpy_data1)\n",
        "v_rest_mean_2 = st.mean(numpy_data2)\n",
        "print(v_rest_mean_1)\n",
        "print(v_rest_mean_2)"
      ],
      "metadata": {
        "id": "3OAXdmc3jY-J",
        "outputId": "9dbdd5e1-a798-4655-b226-dc76b0916243",
        "colab": {
          "base_uri": "https://localhost:8080/"
        }
      },
      "execution_count": 20,
      "outputs": [
        {
          "output_type": "stream",
          "name": "stdout",
          "text": [
            "-69.22183095846154\n",
            "-69.43707545538462\n"
          ]
        }
      ]
    },
    {
      "cell_type": "markdown",
      "source": [
        "###11 difference in means\n",
        "The means for the first and second row are almost the same, with just an approximately 0.2 difference between them. The larger mean is the mean of v_rest1. "
      ],
      "metadata": {
        "id": "rSNM_A_RkFH4"
      }
    },
    {
      "cell_type": "code",
      "source": [
        "#12 importing scipy package\n",
        "import scipy.stats as stats"
      ],
      "metadata": {
        "id": "p_rKMMK9keAF"
      },
      "execution_count": 21,
      "outputs": []
    },
    {
      "cell_type": "code",
      "source": [
        "#13 performing a t test\n",
        "stats.ttest_ind(v_rest[0], v_rest[1])"
      ],
      "metadata": {
        "id": "bgHTt3wKksTo",
        "outputId": "42c0d597-9316-4f6d-adcb-63831fdb2a1e",
        "colab": {
          "base_uri": "https://localhost:8080/"
        }
      },
      "execution_count": 22,
      "outputs": [
        {
          "output_type": "execute_result",
          "data": {
            "text/plain": [
              "Ttest_indResult(statistic=0.11784143593862338, pvalue=0.9071739957816318)"
            ]
          },
          "metadata": {},
          "execution_count": 22
        }
      ]
    },
    {
      "cell_type": "markdown",
      "source": [
        "###14 interpreting t test results\n",
        "\n",
        "\n",
        "*   The P value is 0.907, which would indicate there is about a 90% chance that the mean of one data set could be found in the second. This makes sense because the mean from my row 1 and row 2 were almost the same. Since the pvalue is far above 0.05, I do not think the data is statistically significant. \n",
        "\n"
      ],
      "metadata": {
        "id": "CLCXEu1qlG4W"
      }
    }
  ]
}