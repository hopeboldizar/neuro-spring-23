{
  "nbformat": 4,
  "nbformat_minor": 0,
  "metadata": {
    "colab": {
      "provenance": [],
      "include_colab_link": true
    },
    "kernelspec": {
      "name": "python3",
      "display_name": "Python 3"
    },
    "language_info": {
      "name": "python"
    }
  },
  "cells": [
    {
      "cell_type": "markdown",
      "metadata": {
        "id": "view-in-github",
        "colab_type": "text"
      },
      "source": [
        "<a href=\"https://colab.research.google.com/github/hopeboldizar/neuro-spring-23/blob/main/coding_homework_3.ipynb\" target=\"_parent\"><img src=\"https://colab.research.google.com/assets/colab-badge.svg\" alt=\"Open In Colab\"/></a>"
      ]
    },
    {
      "cell_type": "markdown",
      "source": [
        "# Coding Homework #3\n",
        "\n",
        "**Instructions**\n",
        "\n",
        "1. Make a *Markdown Cell* that contains the following information:\n",
        "- Your name (small header)\n",
        "- The name of this class (italicized)\n",
        "- The date (bolded)\n",
        "\n",
        "2. Make a *Code Cell* that imports <code>numpy</code> as <code>np</code>, <code>matplotlib.pyplot</code> as <code>plt</code>, and <code>scipy.stats</code> as <code>stats</code>.\n",
        "\n",
        "3. Make a *Code Cell* that imports your <code>v_rest1.csv</code> and <code>v_rest2.csv</code> variables as <code>numpy</code> arrays called <code>v_rest1</code> and <code>v_rest2</code> respectively.\n",
        "\n",
        "4. Make a *Code Cell* that does the following:\n",
        "  \n",
        "  a. Finds the means of <code>v_rest1</code> and <code>v_rest2</code>.\n",
        "  \n",
        "  b. Performs a t-test to test the null hypothesis that the means of <code>v_rest1</code> and <code>v_rest2</code> come from different distributions.\n",
        "\n",
        "  c. Plots a histogram of <code>v_rest1</code> in one subplot, and a histogram of <code>v_rest2</code> in another subplot if the p-value of the t-test is > 0.05. You can make two subplots using the syntax <code>fig, ax = plt.subplots(1,1)</code>.\n",
        "\n",
        "  d. Labels the y-axis and x-axis of your histograms (recall that <code>ax.ylabel</code> and <code>ax.xlabel</code> are the methods that let you accomplish this).\n",
        "\n",
        "5. Make a *Code Cell* that defines a function called <code>vrestHist()</code>. This function should execute the code in step 4 when called. Remember to tell python that you want the function to show your plots when you call it!\n",
        "\n",
        "6. Make a *Code Cell* that calls <code>vrestHist()</code>.\n",
        "\n",
        "7. Make a *Code Cell* that does the following:\n",
        "\n",
        "    a. Loops through each column of <code>v_rest1</code> and <code>v_rest2</code> and makes a scatter plot with <code>v_rest1</code> on the x-axis and <code>v_rest2</code> on the y-axis. \n",
        "\n",
        "    b. Each iteration of your loop should plot a different point on the scatter plot. At the end of your loop, you should have only one scatter plot with number of data points equal to the length of <code>v_rest1</code> and <code>v_rest2</code>.\n",
        "\n",
        "    c. Your loop should plot a <font color = 'red'>red</font> dot if *both* values in <code>v_rest1</code> and <code>v_rest2</code> are greater than -60, a <font color = 'green'>green</font> dot if values in <code>v_rest1</code> are greater than -60, but values in <code>v_rest2</code> are less than -60, and a <font color = 'blue'>blue</font> dot if *both* values in <code>v_rest1</code> and <code>v_rest2</code> are less than -60. \n",
        "\n",
        "    d. Labels your y-axis and your x-axis (this code should be outside of your loop).\n",
        "\n",
        "8. Make a *Code Cell* that defines a function called <code>vrestScatter()</code>. This function should execute the code in step 7 when called. Remember to tell python that you want the function to show your plot when you call it!\n",
        "\n",
        "9. Save a copy of this notebook to your GitHub repo with the title \"coding_homework_3.ipynb\"."
      ],
      "metadata": {
        "id": "zbzMCJlMN3ph"
      }
    },
    {
      "cell_type": "markdown",
      "source": [
        "##Hope Boldizar\n",
        "_Intro to Neural Data Analysis_ \n",
        "\n",
        "__March 1, 2023__"
      ],
      "metadata": {
        "id": "R2xPGJarZzVt"
      }
    },
    {
      "cell_type": "code",
      "source": [
        "#2 Make a Code Cell that imports numpy as np, matplotlib.pyplot as plt, scipy.stats as stats\n",
        "# Import our plotting package from matplotlib\n",
        "import matplotlib.pyplot as plt\n",
        "\n",
        "# Import scipy.stats\n",
        "import scipy.stats as stats\n",
        "\n",
        "# Import numpy below\n",
        "import numpy as np\n",
        "\n",
        "# Add your print() statement below\n",
        "print('Packages imported!')"
      ],
      "metadata": {
        "id": "sS7uJ8VFZ3tD",
        "outputId": "41a03acd-6ff4-4b69-8c60-61c46fed557e",
        "colab": {
          "base_uri": "https://localhost:8080/"
        }
      },
      "execution_count": 2,
      "outputs": [
        {
          "output_type": "stream",
          "name": "stdout",
          "text": [
            "Packages imported!\n"
          ]
        }
      ]
    },
    {
      "cell_type": "code",
      "source": [
        "#3 importing v_rest1\n",
        "url = 'https://docs.google.com/spreadsheets/d/e/2PACX-1vQJHdvWCqo6I-GaOaTrn0ya88CbHWMZC9PqG_nO6JgBn70kTSPWKsz3S3A_8-GWcmGgTut_PuZlnX_V/pub?gid=1835491590&single=true&output=csv'\n",
        "v_rest1 = np.loadtxt(url)\n",
        "v_rest1"
      ],
      "metadata": {
        "id": "EbwBMyuWd9s_",
        "outputId": "e4a315c3-88b4-49a5-da63-90fa472c37ae",
        "colab": {
          "base_uri": "https://localhost:8080/"
        }
      },
      "execution_count": 3,
      "outputs": [
        {
          "output_type": "execute_result",
          "data": {
            "text/plain": [
              "array([-70.09070248, -68.31150987, -73.54675865, -67.4255358 ,\n",
              "       -67.50405731, -70.56566104, -70.49003296, -67.96526241,\n",
              "       -65.06317789, -66.38977509, -74.69312286, -77.1461998 ,\n",
              "       -60.6920063 ])"
            ]
          },
          "metadata": {},
          "execution_count": 3
        }
      ]
    },
    {
      "cell_type": "code",
      "source": [
        "#3 importing v_rest2\n",
        "url = 'https://docs.google.com/spreadsheets/d/e/2PACX-1vTHM4DHeYiM8BcXl0t7t94UPSbLpvmPocZmY5En4YbQFYuW2or6TtkIj-SNDXEENtvFGWPcLpqo3Cko/pub?gid=1294335864&single=true&output=csv'\n",
        "v_rest2 = np.loadtxt(url)\n",
        "v_rest2"
      ],
      "metadata": {
        "id": "XC35nPZMeTFG",
        "outputId": "09291a0b-258d-4e27-df15-674f62a30851",
        "colab": {
          "base_uri": "https://localhost:8080/"
        }
      },
      "execution_count": 4,
      "outputs": [
        {
          "output_type": "execute_result",
          "data": {
            "text/plain": [
              "array([-72.40836334, -72.48455811, -75.56633987, -72.09767227,\n",
              "       -67.56270345, -70.77105113, -68.75347692, -76.85747464,\n",
              "       -62.20342331, -67.42262802, -59.2925852 , -65.98278878,\n",
              "       -71.27891588])"
            ]
          },
          "metadata": {},
          "execution_count": 4
        }
      ]
    },
    {
      "cell_type": "code",
      "source": [
        "#4 means, t-test, histogram\n",
        "v_rest_mean_1 = np.mean(v_rest1)\n",
        "v_rest_mean_2 = np.mean(v_rest2)\n",
        "print(v_rest_mean_1)\n",
        "print(v_rest_mean_2)\n",
        "ttest = stats.ttest_ind(v_rest1, v_rest2)\n",
        "print(ttest)\n",
        "fig, ax = plt.subplots(1,2,figsize=(15,5))\n",
        "\n",
        "ax[0].hist(v_rest1)\n",
        "ax[0].set_xlabel('resting membrane potential (mV)')\n",
        "ax[0].set_ylabel('count')\n",
        "ax[1].hist(v_rest2)\n",
        "ax[1].set_xlabel('resting membrane potential (mV)')\n",
        "ax[1].set_ylabel('count')"
      ],
      "metadata": {
        "id": "ruvNZVYTegGp",
        "outputId": "2b1b16be-c1cb-4b7d-832b-fa56b67dc72c",
        "colab": {
          "base_uri": "https://localhost:8080/",
          "height": 402
        }
      },
      "execution_count": 35,
      "outputs": [
        {
          "output_type": "stream",
          "name": "stdout",
          "text": [
            "-69.22183095846152\n",
            "-69.4370754553846\n",
            "Ttest_indResult(statistic=0.11784143593862338, pvalue=0.9071739957816318)\n"
          ]
        },
        {
          "output_type": "execute_result",
          "data": {
            "text/plain": [
              "Text(0, 0.5, 'count')"
            ]
          },
          "metadata": {},
          "execution_count": 35
        },
        {
          "output_type": "display_data",
          "data": {
            "text/plain": [
              "<Figure size 1080x360 with 2 Axes>"
            ],
            "image/png": "[encoded data removed]"
          },
          "metadata": {
            "needs_background": "light"
          }
        }
      ]
    },
    {
      "cell_type": "code",
      "source": [
        "#5 creating a function\n",
        "#This is a function that will take the mean, t-test, and histogram for vrest data\n",
        "def vrestHist():\n",
        "    v_rest_mean_1 = np.mean(v_rest1)\n",
        "    v_rest_mean_2 = np.mean(v_rest2)\n",
        "    print(v_rest_mean_1)\n",
        "    print(v_rest_mean_2)\n",
        "    ttest = stats.ttest_ind(v_rest1, v_rest2)\n",
        "    print(ttest)\n",
        "    fig, ax = plt.subplots(1,2,figsize=(15,5))\n",
        "\n",
        "    ax[0].hist(v_rest1)\n",
        "    ax[0].set_xlabel('resting membrane potential (mV)')\n",
        "    ax[0].set_ylabel('count')\n",
        "    ax[1].hist(v_rest2)\n",
        "    ax[1].set_xlabel('resting membrane potential (mV)')\n",
        "    ax[1].set_ylabel('count')\n",
        "plt.show()"
      ],
      "metadata": {
        "id": "hZ7vvI__nVXr"
      },
      "execution_count": 38,
      "outputs": []
    },
    {
      "cell_type": "code",
      "source": [
        "#6 calling vresthist\n",
        "vrestHist()"
      ],
      "metadata": {
        "id": "Q6QZKCRcn8Uz",
        "outputId": "c0e3663a-63cf-4a68-eb85-502082ac20a1",
        "colab": {
          "base_uri": "https://localhost:8080/",
          "height": 385
        }
      },
      "execution_count": 39,
      "outputs": [
        {
          "output_type": "stream",
          "name": "stdout",
          "text": [
            "-69.22183095846152\n",
            "-69.4370754553846\n",
            "Ttest_indResult(statistic=0.11784143593862338, pvalue=0.9071739957816318)\n"
          ]
        },
        {
          "output_type": "display_data",
          "data": {
            "text/plain": [
              "<Figure size 1080x360 with 2 Axes>"
            ],
            "image/png": "[encoded data removed]"
          },
          "metadata": {
            "needs_background": "light"
          }
        }
      ]
    },
    {
      "cell_type": "code",
      "source": [
        "#7 loops\n",
        "for i in range(patch_length):\n",
        "  if patch_seq.iloc[i,2] == 'Sst':\n",
        "    plt.scatter(patch_seq.iloc[i,0],patch_seq.iloc[i,1],color = \"blue\")\n",
        "  if patch_seq.iloc[i,2] == 'Pvalb':\n",
        "    plt.scatter(patch_seq.iloc[i,0],patch_seq.iloc[i,1],color = \"red\")"
      ],
      "metadata": {
        "id": "sQvnyfCwoVXh"
      },
      "execution_count": null,
      "outputs": []
    }
  ]
}